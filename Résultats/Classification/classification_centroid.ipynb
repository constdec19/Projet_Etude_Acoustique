{
  "nbformat": 4,
  "nbformat_minor": 0,
  "metadata": {
    "colab": {
      "name": "classification_centroid.ipynb",
      "provenance": [],
      "collapsed_sections": []
    },
    "kernelspec": {
      "name": "python3",
      "display_name": "Python 3"
    },
    "language_info": {
      "name": "python"
    }
  },
  "cells": [
    {
      "cell_type": "code",
      "execution_count": 1,
      "metadata": {
        "id": "ljJEdz7rVsaD"
      },
      "outputs": [],
      "source": [
        "import tensorflow as tf\n",
        "import numpy as np\n",
        "import datetime, os\n",
        "from keras.utils.np_utils import to_categorical\n",
        "import matplotlib.pyplot as plt"
      ]
    },
    {
      "cell_type": "code",
      "source": [
        "import pandas as pd"
      ],
      "metadata": {
        "id": "LKxhyFVpV5yF"
      },
      "execution_count": 2,
      "outputs": []
    },
    {
      "cell_type": "code",
      "source": [
        "data = pd.read_csv('/content/classification.csv')"
      ],
      "metadata": {
        "id": "GZBrQQ_WWH-W"
      },
      "execution_count": 64,
      "outputs": []
    },
    {
      "cell_type": "code",
      "source": [
        "x_train = data['valeurs']\n",
        "y_train = data['label']\n",
        "x_val = data['valeurs_val']\n",
        "y_val = data['label_val']\n",
        "x_val  = x_val[0:60]\n",
        "y_val = y_val[0:60]"
      ],
      "metadata": {
        "id": "Y4ndIN5HW_ze"
      },
      "execution_count": 65,
      "outputs": []
    },
    {
      "cell_type": "code",
      "source": [
        "for i in range(0,len(y_val)):\n",
        "  if y_val[i] == 'R1':\n",
        "    y_val[i] = 1\n",
        "  if y_val[i] == 'R2':\n",
        "    y_val[i] = 2\n",
        "  if y_val[i] == 'R3':\n",
        "    y_val[i] = 3\n",
        "  if y_val[i] == 'R4':\n",
        "    y_val[i] = 4\n",
        "\n",
        "for i in range(0,len(y_train)):\n",
        "  if y_train[i] == 'R1':\n",
        "    y_train[i] = 1\n",
        "  if y_train[i] == 'R2':\n",
        "    y_train[i] = 2\n",
        "  if y_train[i] == 'R3':\n",
        "    y_train[i] = 3\n",
        "  if y_train[i] == 'R4':\n",
        "    y_train[i] = 4"
      ],
      "metadata": {
        "colab": {
          "base_uri": "https://localhost:8080/"
        },
        "id": "rKcM9dBmZy9H",
        "outputId": "1fc2fbc4-7b92-4248-fee8-bf3085975cd5"
      },
      "execution_count": 66,
      "outputs": [
        {
          "output_type": "stream",
          "name": "stderr",
          "text": [
            "/usr/local/lib/python3.7/dist-packages/ipykernel_launcher.py:13: SettingWithCopyWarning: \n",
            "A value is trying to be set on a copy of a slice from a DataFrame\n",
            "\n",
            "See the caveats in the documentation: https://pandas.pydata.org/pandas-docs/stable/user_guide/indexing.html#returning-a-view-versus-a-copy\n",
            "  del sys.path[0]\n",
            "/usr/local/lib/python3.7/dist-packages/ipykernel_launcher.py:15: SettingWithCopyWarning: \n",
            "A value is trying to be set on a copy of a slice from a DataFrame\n",
            "\n",
            "See the caveats in the documentation: https://pandas.pydata.org/pandas-docs/stable/user_guide/indexing.html#returning-a-view-versus-a-copy\n",
            "  from ipykernel import kernelapp as app\n",
            "/usr/local/lib/python3.7/dist-packages/ipykernel_launcher.py:17: SettingWithCopyWarning: \n",
            "A value is trying to be set on a copy of a slice from a DataFrame\n",
            "\n",
            "See the caveats in the documentation: https://pandas.pydata.org/pandas-docs/stable/user_guide/indexing.html#returning-a-view-versus-a-copy\n",
            "/usr/local/lib/python3.7/dist-packages/ipykernel_launcher.py:19: SettingWithCopyWarning: \n",
            "A value is trying to be set on a copy of a slice from a DataFrame\n",
            "\n",
            "See the caveats in the documentation: https://pandas.pydata.org/pandas-docs/stable/user_guide/indexing.html#returning-a-view-versus-a-copy\n"
          ]
        }
      ]
    },
    {
      "cell_type": "code",
      "source": [
        "print(x_train.shape)"
      ],
      "metadata": {
        "colab": {
          "base_uri": "https://localhost:8080/"
        },
        "id": "oMs0FGRJbXXU",
        "outputId": "56cfdecb-82cb-4d30-a71c-62e7046bd8c7"
      },
      "execution_count": 67,
      "outputs": [
        {
          "output_type": "stream",
          "name": "stdout",
          "text": [
            "(831,)\n"
          ]
        }
      ]
    },
    {
      "cell_type": "code",
      "source": [
        "x_train = np.asarray(x_train)\n",
        "x_val = np.asarray(x_val)\n",
        "y_val = np.asarray(y_val)\n",
        "y_train = np.asarray(y_train)\n",
        "y_train = to_categorical(y_train)\n",
        "y_val = to_categorical(y_val)\n",
        "print(x_train.shape)\n",
        "print(y_train.shape)\n",
        "print(y_val)"
      ],
      "metadata": {
        "colab": {
          "base_uri": "https://localhost:8080/"
        },
        "id": "qoMXLgYEc8yk",
        "outputId": "5a76fc66-b3c3-4868-d56c-5c8c21e95484"
      },
      "execution_count": 74,
      "outputs": [
        {
          "output_type": "stream",
          "name": "stdout",
          "text": [
            "(831,)\n",
            "(831, 5)\n",
            "[[0. 1. 0. 0. 0.]\n",
            " [0. 1. 0. 0. 0.]\n",
            " [0. 1. 0. 0. 0.]\n",
            " [0. 1. 0. 0. 0.]\n",
            " [0. 1. 0. 0. 0.]\n",
            " [0. 1. 0. 0. 0.]\n",
            " [0. 1. 0. 0. 0.]\n",
            " [0. 1. 0. 0. 0.]\n",
            " [0. 1. 0. 0. 0.]\n",
            " [0. 1. 0. 0. 0.]\n",
            " [0. 1. 0. 0. 0.]\n",
            " [0. 1. 0. 0. 0.]\n",
            " [0. 1. 0. 0. 0.]\n",
            " [0. 1. 0. 0. 0.]\n",
            " [0. 1. 0. 0. 0.]\n",
            " [0. 0. 1. 0. 0.]\n",
            " [0. 0. 1. 0. 0.]\n",
            " [0. 0. 1. 0. 0.]\n",
            " [0. 0. 1. 0. 0.]\n",
            " [0. 0. 1. 0. 0.]\n",
            " [0. 0. 1. 0. 0.]\n",
            " [0. 0. 1. 0. 0.]\n",
            " [0. 0. 1. 0. 0.]\n",
            " [0. 0. 1. 0. 0.]\n",
            " [0. 0. 1. 0. 0.]\n",
            " [0. 0. 1. 0. 0.]\n",
            " [0. 0. 1. 0. 0.]\n",
            " [0. 0. 1. 0. 0.]\n",
            " [0. 0. 1. 0. 0.]\n",
            " [0. 0. 1. 0. 0.]\n",
            " [0. 0. 0. 1. 0.]\n",
            " [0. 0. 0. 1. 0.]\n",
            " [0. 0. 0. 1. 0.]\n",
            " [0. 0. 0. 1. 0.]\n",
            " [0. 0. 0. 1. 0.]\n",
            " [0. 0. 0. 1. 0.]\n",
            " [0. 0. 0. 1. 0.]\n",
            " [0. 0. 0. 1. 0.]\n",
            " [0. 0. 0. 1. 0.]\n",
            " [0. 0. 0. 1. 0.]\n",
            " [0. 0. 0. 0. 1.]\n",
            " [0. 0. 0. 0. 1.]\n",
            " [0. 0. 0. 0. 1.]\n",
            " [0. 0. 0. 0. 1.]\n",
            " [0. 0. 0. 0. 1.]\n",
            " [0. 0. 0. 0. 1.]\n",
            " [0. 0. 0. 0. 1.]\n",
            " [0. 0. 0. 0. 1.]\n",
            " [0. 0. 0. 0. 1.]\n",
            " [0. 0. 0. 0. 1.]\n",
            " [0. 0. 0. 0. 1.]\n",
            " [0. 0. 0. 0. 1.]\n",
            " [0. 0. 0. 0. 1.]\n",
            " [0. 0. 0. 0. 1.]\n",
            " [0. 0. 0. 0. 1.]\n",
            " [0. 0. 0. 0. 1.]\n",
            " [0. 0. 0. 0. 1.]\n",
            " [0. 0. 0. 0. 1.]\n",
            " [0. 0. 0. 0. 1.]\n",
            " [0. 0. 0. 0. 1.]]\n"
          ]
        }
      ]
    },
    {
      "cell_type": "code",
      "source": [
        "model = tf.keras.Sequential()"
      ],
      "metadata": {
        "id": "e4g7S6gMaW0O"
      },
      "execution_count": 100,
      "outputs": []
    },
    {
      "cell_type": "code",
      "source": [
        "METRICS = ['accuracy']\n",
        "\n",
        "model.add(tf.keras.layers.Dense(64, activation='relu',input_dim=1))\n",
        "model.add(tf.keras.layers.Dense(5, activation = 'softmax'))\n",
        "\n",
        "print(model.summary)\n",
        "\n",
        "model.compile(loss='categorical_crossentropy', optimizer = 'SGD', metrics = ['accuracy'])\n",
        "model.fit(x_train,y_train,epochs=20,validation_data = (x_val,y_val))"
      ],
      "metadata": {
        "colab": {
          "base_uri": "https://localhost:8080/"
        },
        "id": "RVVE2u6PbLIG",
        "outputId": "ab1e46c9-af6e-4bca-c812-0e82ddf76a55"
      },
      "execution_count": 101,
      "outputs": [
        {
          "output_type": "stream",
          "name": "stdout",
          "text": [
            "<bound method Model.summary of <keras.engine.sequential.Sequential object at 0x7fd809730d90>>\n",
            "Epoch 1/20\n",
            "26/26 [==============================] - 1s 9ms/step - loss: 6.3205 - accuracy: 0.2611 - val_loss: 1.5431 - val_accuracy: 0.3167\n",
            "Epoch 2/20\n",
            "26/26 [==============================] - 0s 2ms/step - loss: 1.6001 - accuracy: 0.3646 - val_loss: 1.5916 - val_accuracy: 0.2500\n",
            "Epoch 3/20\n",
            "26/26 [==============================] - 0s 2ms/step - loss: 1.5769 - accuracy: 0.3742 - val_loss: 1.5789 - val_accuracy: 0.2500\n",
            "Epoch 4/20\n",
            "26/26 [==============================] - 0s 2ms/step - loss: 1.5603 - accuracy: 0.3742 - val_loss: 1.5676 - val_accuracy: 0.2500\n",
            "Epoch 5/20\n",
            "26/26 [==============================] - 0s 2ms/step - loss: 1.5455 - accuracy: 0.3742 - val_loss: 1.5576 - val_accuracy: 0.2500\n",
            "Epoch 6/20\n",
            "26/26 [==============================] - 0s 3ms/step - loss: 1.5320 - accuracy: 0.3742 - val_loss: 1.5488 - val_accuracy: 0.2500\n",
            "Epoch 7/20\n",
            "26/26 [==============================] - 0s 2ms/step - loss: 1.5198 - accuracy: 0.3742 - val_loss: 1.5408 - val_accuracy: 0.2500\n",
            "Epoch 8/20\n",
            "26/26 [==============================] - 0s 2ms/step - loss: 1.5087 - accuracy: 0.3742 - val_loss: 1.5338 - val_accuracy: 0.2500\n",
            "Epoch 9/20\n",
            "26/26 [==============================] - 0s 2ms/step - loss: 1.4987 - accuracy: 0.3742 - val_loss: 1.5275 - val_accuracy: 0.2500\n",
            "Epoch 10/20\n",
            "26/26 [==============================] - 0s 2ms/step - loss: 1.4896 - accuracy: 0.3742 - val_loss: 1.5218 - val_accuracy: 0.2500\n",
            "Epoch 11/20\n",
            "26/26 [==============================] - 0s 2ms/step - loss: 1.4813 - accuracy: 0.3742 - val_loss: 1.5167 - val_accuracy: 0.2500\n",
            "Epoch 12/20\n",
            "26/26 [==============================] - 0s 2ms/step - loss: 1.4737 - accuracy: 0.3742 - val_loss: 1.5121 - val_accuracy: 0.2500\n",
            "Epoch 13/20\n",
            "26/26 [==============================] - 0s 3ms/step - loss: 1.4668 - accuracy: 0.3742 - val_loss: 1.5079 - val_accuracy: 0.2500\n",
            "Epoch 14/20\n",
            "26/26 [==============================] - 0s 3ms/step - loss: 1.4605 - accuracy: 0.3742 - val_loss: 1.5042 - val_accuracy: 0.2500\n",
            "Epoch 15/20\n",
            "26/26 [==============================] - 0s 2ms/step - loss: 1.4546 - accuracy: 0.3742 - val_loss: 1.5008 - val_accuracy: 0.2500\n",
            "Epoch 16/20\n",
            "26/26 [==============================] - 0s 2ms/step - loss: 1.4493 - accuracy: 0.3742 - val_loss: 1.4977 - val_accuracy: 0.2500\n",
            "Epoch 17/20\n",
            "26/26 [==============================] - 0s 2ms/step - loss: 1.4444 - accuracy: 0.3742 - val_loss: 1.4948 - val_accuracy: 0.2500\n",
            "Epoch 18/20\n",
            "26/26 [==============================] - 0s 3ms/step - loss: 1.4399 - accuracy: 0.3742 - val_loss: 1.4922 - val_accuracy: 0.2500\n",
            "Epoch 19/20\n",
            "26/26 [==============================] - 0s 2ms/step - loss: 1.4357 - accuracy: 0.3742 - val_loss: 1.4897 - val_accuracy: 0.2500\n",
            "Epoch 20/20\n",
            "26/26 [==============================] - 0s 2ms/step - loss: 1.4318 - accuracy: 0.3742 - val_loss: 1.4874 - val_accuracy: 0.2500\n"
          ]
        },
        {
          "output_type": "execute_result",
          "data": {
            "text/plain": [
              "<keras.callbacks.History at 0x7fd8187dd390>"
            ]
          },
          "metadata": {},
          "execution_count": 101
        }
      ]
    },
    {
      "cell_type": "code",
      "source": [
        "model.predict([100])"
      ],
      "metadata": {
        "colab": {
          "base_uri": "https://localhost:8080/"
        },
        "id": "f3FJ3F2rfubb",
        "outputId": "a638e6b1-2d3d-4968-fc16-e88c3775fa4a"
      },
      "execution_count": 106,
      "outputs": [
        {
          "output_type": "execute_result",
          "data": {
            "text/plain": [
              "array([[0.09377284, 0.17413984, 0.31578594, 0.16974832, 0.24655303]],\n",
              "      dtype=float32)"
            ]
          },
          "metadata": {},
          "execution_count": 106
        }
      ]
    }
  ]
}