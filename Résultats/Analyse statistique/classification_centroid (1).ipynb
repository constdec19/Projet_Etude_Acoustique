{
  "nbformat": 4,
  "nbformat_minor": 0,
  "metadata": {
    "colab": {
      "name": "classification_centroid.ipynb",
      "provenance": [],
      "collapsed_sections": []
    },
    "kernelspec": {
      "name": "python3",
      "display_name": "Python 3"
    },
    "language_info": {
      "name": "python"
    }
  },
  "cells": [
    {
      "cell_type": "code",
      "execution_count": 107,
      "metadata": {
        "id": "ljJEdz7rVsaD"
      },
      "outputs": [],
      "source": [
        "import tensorflow as tf\n",
        "import numpy as np\n",
        "import datetime, os\n",
        "from keras.utils.np_utils import to_categorical\n",
        "import matplotlib.pyplot as plt"
      ]
    },
    {
      "cell_type": "code",
      "source": [
        "import pandas as pd"
      ],
      "metadata": {
        "id": "LKxhyFVpV5yF"
      },
      "execution_count": 108,
      "outputs": []
    },
    {
      "cell_type": "code",
      "source": [
        "data = pd.read_csv('/content/classification.csv')"
      ],
      "metadata": {
        "id": "GZBrQQ_WWH-W"
      },
      "execution_count": 109,
      "outputs": []
    },
    {
      "cell_type": "code",
      "source": [
        "x_train = data['valeurs']\n",
        "y_train = data['label']\n",
        "x_val = data['valeurs_val']\n",
        "y_val = data['label_val']\n",
        "x_val  = x_val[0:70]\n",
        "y_val = y_val[0:70]"
      ],
      "metadata": {
        "id": "Y4ndIN5HW_ze"
      },
      "execution_count": 114,
      "outputs": []
    },
    {
      "cell_type": "code",
      "source": [
        "for i in range(0,len(y_val)):\n",
        "  if y_val[i] == 'R1':\n",
        "    y_val[i] = 1\n",
        "  if y_val[i] == 'R2':\n",
        "    y_val[i] = 2\n",
        "  if y_val[i] == 'R3':\n",
        "    y_val[i] = 3\n",
        "  if y_val[i] == 'R4':\n",
        "    y_val[i] = 4\n",
        "\n",
        "for i in range(0,len(y_train)):\n",
        "  if y_train[i] == 'R1':\n",
        "    y_train[i] = 1\n",
        "  if y_train[i] == 'R2':\n",
        "    y_train[i] = 2\n",
        "  if y_train[i] == 'R3':\n",
        "    y_train[i] = 3\n",
        "  if y_train[i] == 'R4':\n",
        "    y_train[i] = 4"
      ],
      "metadata": {
        "colab": {
          "base_uri": "https://localhost:8080/"
        },
        "id": "rKcM9dBmZy9H",
        "outputId": "ffa0cb6b-d950-4bb2-9841-0f851086b801"
      },
      "execution_count": 115,
      "outputs": [
        {
          "output_type": "stream",
          "name": "stderr",
          "text": [
            "/usr/local/lib/python3.7/dist-packages/ipykernel_launcher.py:13: SettingWithCopyWarning: \n",
            "A value is trying to be set on a copy of a slice from a DataFrame\n",
            "\n",
            "See the caveats in the documentation: https://pandas.pydata.org/pandas-docs/stable/user_guide/indexing.html#returning-a-view-versus-a-copy\n",
            "  del sys.path[0]\n",
            "/usr/local/lib/python3.7/dist-packages/ipykernel_launcher.py:15: SettingWithCopyWarning: \n",
            "A value is trying to be set on a copy of a slice from a DataFrame\n",
            "\n",
            "See the caveats in the documentation: https://pandas.pydata.org/pandas-docs/stable/user_guide/indexing.html#returning-a-view-versus-a-copy\n",
            "  from ipykernel import kernelapp as app\n",
            "/usr/local/lib/python3.7/dist-packages/ipykernel_launcher.py:17: SettingWithCopyWarning: \n",
            "A value is trying to be set on a copy of a slice from a DataFrame\n",
            "\n",
            "See the caveats in the documentation: https://pandas.pydata.org/pandas-docs/stable/user_guide/indexing.html#returning-a-view-versus-a-copy\n",
            "/usr/local/lib/python3.7/dist-packages/ipykernel_launcher.py:19: SettingWithCopyWarning: \n",
            "A value is trying to be set on a copy of a slice from a DataFrame\n",
            "\n",
            "See the caveats in the documentation: https://pandas.pydata.org/pandas-docs/stable/user_guide/indexing.html#returning-a-view-versus-a-copy\n"
          ]
        }
      ]
    },
    {
      "cell_type": "code",
      "source": [
        "print(x_train.shape)"
      ],
      "metadata": {
        "colab": {
          "base_uri": "https://localhost:8080/"
        },
        "id": "oMs0FGRJbXXU",
        "outputId": "cffa827d-8c74-48af-9275-85a5f9dd3c0c"
      },
      "execution_count": 116,
      "outputs": [
        {
          "output_type": "stream",
          "name": "stdout",
          "text": [
            "(818,)\n"
          ]
        }
      ]
    },
    {
      "cell_type": "code",
      "source": [
        "x_train = np.asarray(x_train)\n",
        "x_val = np.asarray(x_val)\n",
        "y_val = np.asarray(y_val)\n",
        "y_train = np.asarray(y_train)\n",
        "y_train = to_categorical(y_train)\n",
        "y_val = to_categorical(y_val)\n",
        "print(x_train.shape)\n",
        "print(y_train.shape)\n",
        "print(y_val)"
      ],
      "metadata": {
        "colab": {
          "base_uri": "https://localhost:8080/"
        },
        "id": "qoMXLgYEc8yk",
        "outputId": "0235181f-75dd-4cbe-821a-cf4c0c96aa4d"
      },
      "execution_count": 117,
      "outputs": [
        {
          "output_type": "stream",
          "name": "stdout",
          "text": [
            "(818,)\n",
            "(818, 5)\n",
            "[[0. 1. 0. 0. 0.]\n",
            " [0. 1. 0. 0. 0.]\n",
            " [0. 1. 0. 0. 0.]\n",
            " [0. 1. 0. 0. 0.]\n",
            " [0. 1. 0. 0. 0.]\n",
            " [0. 1. 0. 0. 0.]\n",
            " [0. 1. 0. 0. 0.]\n",
            " [0. 1. 0. 0. 0.]\n",
            " [0. 1. 0. 0. 0.]\n",
            " [0. 1. 0. 0. 0.]\n",
            " [0. 1. 0. 0. 0.]\n",
            " [0. 1. 0. 0. 0.]\n",
            " [0. 1. 0. 0. 0.]\n",
            " [0. 1. 0. 0. 0.]\n",
            " [0. 1. 0. 0. 0.]\n",
            " [0. 1. 0. 0. 0.]\n",
            " [0. 1. 0. 0. 0.]\n",
            " [0. 1. 0. 0. 0.]\n",
            " [0. 1. 0. 0. 0.]\n",
            " [0. 1. 0. 0. 0.]\n",
            " [0. 0. 1. 0. 0.]\n",
            " [0. 0. 1. 0. 0.]\n",
            " [0. 0. 1. 0. 0.]\n",
            " [0. 0. 1. 0. 0.]\n",
            " [0. 0. 1. 0. 0.]\n",
            " [0. 0. 1. 0. 0.]\n",
            " [0. 0. 1. 0. 0.]\n",
            " [0. 0. 1. 0. 0.]\n",
            " [0. 0. 1. 0. 0.]\n",
            " [0. 0. 1. 0. 0.]\n",
            " [0. 0. 1. 0. 0.]\n",
            " [0. 0. 1. 0. 0.]\n",
            " [0. 0. 1. 0. 0.]\n",
            " [0. 0. 1. 0. 0.]\n",
            " [0. 0. 1. 0. 0.]\n",
            " [0. 0. 1. 0. 0.]\n",
            " [0. 0. 1. 0. 0.]\n",
            " [0. 0. 1. 0. 0.]\n",
            " [0. 0. 1. 0. 0.]\n",
            " [0. 0. 1. 0. 0.]\n",
            " [0. 0. 0. 1. 0.]\n",
            " [0. 0. 0. 1. 0.]\n",
            " [0. 0. 0. 1. 0.]\n",
            " [0. 0. 0. 1. 0.]\n",
            " [0. 0. 0. 1. 0.]\n",
            " [0. 0. 0. 1. 0.]\n",
            " [0. 0. 0. 1. 0.]\n",
            " [0. 0. 0. 1. 0.]\n",
            " [0. 0. 0. 1. 0.]\n",
            " [0. 0. 0. 1. 0.]\n",
            " [0. 0. 0. 0. 1.]\n",
            " [0. 0. 0. 0. 1.]\n",
            " [0. 0. 0. 0. 1.]\n",
            " [0. 0. 0. 0. 1.]\n",
            " [0. 0. 0. 0. 1.]\n",
            " [0. 0. 0. 0. 1.]\n",
            " [0. 0. 0. 0. 1.]\n",
            " [0. 0. 0. 0. 1.]\n",
            " [0. 0. 0. 0. 1.]\n",
            " [0. 0. 0. 0. 1.]\n",
            " [0. 0. 0. 0. 1.]\n",
            " [0. 0. 0. 0. 1.]\n",
            " [0. 0. 0. 0. 1.]\n",
            " [0. 0. 0. 0. 1.]\n",
            " [0. 0. 0. 0. 1.]\n",
            " [0. 0. 0. 0. 1.]\n",
            " [0. 0. 0. 0. 1.]\n",
            " [0. 0. 0. 0. 1.]\n",
            " [0. 0. 0. 0. 1.]\n",
            " [0. 0. 0. 0. 1.]]\n"
          ]
        }
      ]
    },
    {
      "cell_type": "code",
      "source": [
        "model = tf.keras.Sequential()"
      ],
      "metadata": {
        "id": "e4g7S6gMaW0O"
      },
      "execution_count": 118,
      "outputs": []
    },
    {
      "cell_type": "code",
      "source": [
        "METRICS = ['accuracy']\n",
        "\n",
        "model.add(tf.keras.layers.Dense(64, activation='relu',input_dim=1))\n",
        "model.add(tf.keras.layers.Dense(5, activation = 'softmax'))\n",
        "\n",
        "print(model.summary)\n",
        "\n",
        "model.compile(loss='categorical_crossentropy', optimizer = 'SGD', metrics = ['accuracy'])\n",
        "model.fit(x_train,y_train,epochs=20,validation_data = (x_val,y_val))"
      ],
      "metadata": {
        "colab": {
          "base_uri": "https://localhost:8080/"
        },
        "id": "RVVE2u6PbLIG",
        "outputId": "eb71bf45-6582-49fd-ab1d-588933af0a91"
      },
      "execution_count": 123,
      "outputs": [
        {
          "output_type": "stream",
          "name": "stdout",
          "text": [
            "<bound method Model.summary of <keras.engine.sequential.Sequential object at 0x7fd80c7b5910>>\n",
            "Epoch 1/20\n",
            "26/26 [==============================] - 1s 10ms/step - loss: 1.5799 - accuracy: 0.2910 - val_loss: 1.5845 - val_accuracy: 0.2857\n",
            "Epoch 2/20\n",
            "26/26 [==============================] - 0s 3ms/step - loss: 1.5396 - accuracy: 0.3411 - val_loss: 1.5600 - val_accuracy: 0.2857\n",
            "Epoch 3/20\n",
            "26/26 [==============================] - 0s 3ms/step - loss: 1.5099 - accuracy: 0.3704 - val_loss: 1.5413 - val_accuracy: 0.2857\n",
            "Epoch 4/20\n",
            "26/26 [==============================] - 0s 3ms/step - loss: 1.4868 - accuracy: 0.3704 - val_loss: 1.5270 - val_accuracy: 0.2857\n",
            "Epoch 5/20\n",
            "26/26 [==============================] - 0s 3ms/step - loss: 1.4680 - accuracy: 0.3704 - val_loss: 1.5160 - val_accuracy: 0.2857\n",
            "Epoch 6/20\n",
            "26/26 [==============================] - 0s 3ms/step - loss: 1.4528 - accuracy: 0.3704 - val_loss: 1.5070 - val_accuracy: 0.2857\n",
            "Epoch 7/20\n",
            "26/26 [==============================] - 0s 3ms/step - loss: 1.4406 - accuracy: 0.3704 - val_loss: 1.4997 - val_accuracy: 0.2857\n",
            "Epoch 8/20\n",
            "26/26 [==============================] - 0s 3ms/step - loss: 1.4306 - accuracy: 0.3704 - val_loss: 1.4939 - val_accuracy: 0.2857\n",
            "Epoch 9/20\n",
            "26/26 [==============================] - 0s 3ms/step - loss: 1.4224 - accuracy: 0.3704 - val_loss: 1.4889 - val_accuracy: 0.2857\n",
            "Epoch 10/20\n",
            "26/26 [==============================] - 0s 4ms/step - loss: 1.4155 - accuracy: 0.3704 - val_loss: 1.4844 - val_accuracy: 0.2857\n",
            "Epoch 11/20\n",
            "26/26 [==============================] - 0s 3ms/step - loss: 1.4096 - accuracy: 0.3704 - val_loss: 1.4799 - val_accuracy: 0.2857\n",
            "Epoch 12/20\n",
            "26/26 [==============================] - 0s 3ms/step - loss: 1.4043 - accuracy: 0.3704 - val_loss: 1.4758 - val_accuracy: 0.2857\n",
            "Epoch 13/20\n",
            "26/26 [==============================] - 0s 3ms/step - loss: 1.3997 - accuracy: 0.3704 - val_loss: 1.4722 - val_accuracy: 0.2857\n",
            "Epoch 14/20\n",
            "26/26 [==============================] - 0s 4ms/step - loss: 1.3956 - accuracy: 0.3704 - val_loss: 1.4686 - val_accuracy: 0.2857\n",
            "Epoch 15/20\n",
            "26/26 [==============================] - 0s 3ms/step - loss: 1.3920 - accuracy: 0.3704 - val_loss: 1.4653 - val_accuracy: 0.2857\n",
            "Epoch 16/20\n",
            "26/26 [==============================] - 0s 3ms/step - loss: 1.3886 - accuracy: 0.3704 - val_loss: 1.4621 - val_accuracy: 0.2857\n",
            "Epoch 17/20\n",
            "26/26 [==============================] - 0s 3ms/step - loss: 1.3854 - accuracy: 0.3704 - val_loss: 1.4598 - val_accuracy: 0.2857\n",
            "Epoch 18/20\n",
            "26/26 [==============================] - 0s 3ms/step - loss: 1.3826 - accuracy: 0.3704 - val_loss: 1.4570 - val_accuracy: 0.2857\n",
            "Epoch 19/20\n",
            "26/26 [==============================] - 0s 3ms/step - loss: 1.3801 - accuracy: 0.3704 - val_loss: 1.4542 - val_accuracy: 0.2857\n",
            "Epoch 20/20\n",
            "26/26 [==============================] - 0s 4ms/step - loss: 1.3778 - accuracy: 0.3704 - val_loss: 1.4517 - val_accuracy: 0.2857\n"
          ]
        },
        {
          "output_type": "execute_result",
          "data": {
            "text/plain": [
              "<keras.callbacks.History at 0x7fd80c4cad90>"
            ]
          },
          "metadata": {},
          "execution_count": 123
        }
      ]
    },
    {
      "cell_type": "code",
      "source": [
        "model.predict([30])"
      ],
      "metadata": {
        "colab": {
          "base_uri": "https://localhost:8080/"
        },
        "id": "f3FJ3F2rfubb",
        "outputId": "f5d9dee8-9f2b-48a3-b7ad-7ab8fddf6034"
      },
      "execution_count": 122,
      "outputs": [
        {
          "output_type": "execute_result",
          "data": {
            "text/plain": [
              "array([[0.04060513, 0.15574194, 0.3630363 , 0.15967314, 0.28094354]],\n",
              "      dtype=float32)"
            ]
          },
          "metadata": {},
          "execution_count": 122
        }
      ]
    }
  ]
}